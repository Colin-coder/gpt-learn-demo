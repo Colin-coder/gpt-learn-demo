{
 "cells": [
  {
   "cell_type": "code",
   "execution_count": 16,
   "id": "76fd43f5-bdfb-46a0-ac6a-cf185ab57e93",
   "metadata": {
    "tags": []
   },
   "outputs": [],
   "source": [
    "!export OPENAI_API_BASE='https://newcon.space/v1'"
   ]
  },
  {
   "cell_type": "code",
   "execution_count": 17,
   "id": "d0b72245-0d9a-4bd0-a573-a02130ec0668",
   "metadata": {
    "tags": []
   },
   "outputs": [],
   "source": [
    "from langchain.chat_models import ChatOpenAI\n",
    "openaichat = ChatOpenAI(model_name=\"gpt-3.5-turbo\")"
   ]
  },
  {
   "cell_type": "code",
   "execution_count": 18,
   "id": "c647ac3d-4b62-4429-9e26-c9bda2a9fdf8",
   "metadata": {
    "tags": []
   },
   "outputs": [],
   "source": [
    "from langchain.prompts.chat import (\n",
    "    ChatPromptTemplate,\n",
    "    SystemMessagePromptTemplate,\n",
    "    AIMessagePromptTemplate,\n",
    "    HumanMessagePromptTemplate,\n",
    ")\n",
    "from langchain.schema import (\n",
    "    AIMessage,\n",
    "    HumanMessage,\n",
    "    SystemMessage\n",
    ")"
   ]
  },
  {
   "cell_type": "markdown",
   "id": "cb4d2158-ba30-4727-904f-0ea424ed354e",
   "metadata": {},
   "source": [
    "# 这里验证了一下，目前langchain中的ChatOpenAI 应该是不支持设置 url地址。。"
   ]
  },
  {
   "cell_type": "code",
   "execution_count": null,
   "id": "d3754d08-732c-4b43-8d9d-c66fd6ea6dca",
   "metadata": {
    "tags": []
   },
   "outputs": [],
   "source": [
    "import os\n",
    "openaichat.openai_api_key = os.environ.get('OPENAI_API_KEY')\n",
    "messages = [\n",
    "    SystemMessage(content=\"You are a helpful assistant that translates English to French.\"),\n",
    "    HumanMessage(content=\"Translate this sentence from English to French. I love programming.\")\n",
    "]\n",
    "openaichat(messages)"
   ]
  },
  {
   "cell_type": "code",
   "execution_count": null,
   "id": "a367fdca-cfc6-4d68-bb53-3fbf235811af",
   "metadata": {},
   "outputs": [],
   "source": []
  }
 ],
 "metadata": {
  "kernelspec": {
   "display_name": "gptenv",
   "language": "python",
   "name": "gptenv"
  },
  "language_info": {
   "codemirror_mode": {
    "name": "ipython",
    "version": 3
   },
   "file_extension": ".py",
   "mimetype": "text/x-python",
   "name": "python",
   "nbconvert_exporter": "python",
   "pygments_lexer": "ipython3",
   "version": "3.9.16"
  }
 },
 "nbformat": 4,
 "nbformat_minor": 5
}
