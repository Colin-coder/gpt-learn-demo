{
 "cells": [
  {
   "cell_type": "markdown",
   "id": "1c489b19-161c-44d3-a332-7846664c1c20",
   "metadata": {},
   "source": [
    "## 这里负责管理pinecone中的数据"
   ]
  },
  {
   "cell_type": "markdown",
   "id": "4a00982e-6938-400c-b868-534b12f1e26b",
   "metadata": {},
   "source": [
    "### 下面清理index中的所有数据"
   ]
  },
  {
   "cell_type": "code",
   "execution_count": 1,
   "id": "09c30062-42a7-4247-9ec8-02218e8de913",
   "metadata": {
    "tags": []
   },
   "outputs": [
    {
     "name": "stderr",
     "output_type": "stream",
     "text": [
      "C:\\Users\\15271\\AppData\\Local\\Programs\\Python\\Python311\\Lib\\site-packages\\pinecone\\index.py:4: TqdmWarning: IProgress not found. Please update jupyter and ipywidgets. See https://ipywidgets.readthedocs.io/en/stable/user_install.html\n",
      "  from tqdm.autonotebook import tqdm\n"
     ]
    }
   ],
   "source": [
    "import pinecone"
   ]
  },
  {
   "cell_type": "code",
   "execution_count": 2,
   "id": "7ceba606-b88e-4c23-bc16-536d64870c6e",
   "metadata": {
    "tags": []
   },
   "outputs": [],
   "source": [
    "PINECONE_API_KEY = '19156849-2ed3-4cd6-80b4-a05964d4e264'\n",
    "PINECONE_API_ENV = 'eu-west1-gcp'\n",
    "index_name = \"hello2\""
   ]
  },
  {
   "cell_type": "code",
   "execution_count": 3,
   "id": "e274a36b-1cba-4595-a0f0-2320ccbd748f",
   "metadata": {
    "tags": []
   },
   "outputs": [],
   "source": [
    "# initialize pinecone\n",
    "pinecone.init(\n",
    "    api_key=PINECONE_API_KEY,  # find at app.pinecone.io\n",
    "    environment=PINECONE_API_ENV  # next to api key in console\n",
    ")"
   ]
  },
  {
   "cell_type": "code",
   "execution_count": 4,
   "id": "184b120e-e874-46bd-b138-6c106fc4e761",
   "metadata": {
    "tags": []
   },
   "outputs": [
    {
     "data": {
      "text/plain": [
       "['hello2']"
      ]
     },
     "execution_count": 4,
     "metadata": {},
     "output_type": "execute_result"
    }
   ],
   "source": [
    "active_indexes = pinecone.list_indexes()\n",
    "active_indexes"
   ]
  },
  {
   "cell_type": "code",
   "execution_count": 5,
   "id": "04fb9d9d-0f2d-41d5-8127-03719df8ed48",
   "metadata": {
    "tags": []
   },
   "outputs": [
    {
     "data": {
      "text/plain": [
       "IndexDescription(name='hello2', metric='cosine', replicas=1, dimension=1536.0, shards=1, pods=1, pod_type='s1.x1', status={'ready': True, 'state': 'Ready'}, metadata_config=None, source_collection='')"
      ]
     },
     "execution_count": 5,
     "metadata": {},
     "output_type": "execute_result"
    }
   ],
   "source": [
    "index_description = pinecone.describe_index(index_name)\n",
    "index_description"
   ]
  },
  {
   "cell_type": "code",
   "execution_count": 6,
   "id": "16a28e93-04ac-4518-8333-ad89236b6d7d",
   "metadata": {
    "tags": []
   },
   "outputs": [
    {
     "name": "stdout",
     "output_type": "stream",
     "text": [
      "{'dimension': 1536,\n",
      " 'index_fullness': 0.0,\n",
      " 'namespaces': {},\n",
      " 'total_vector_count': 0}\n",
      "delete all success!!!\n"
     ]
    }
   ],
   "source": [
    "#删除index中所有数据\n",
    "index = pinecone.Index(index_name)\n",
    "delete_response = index.delete(delete_all=True)\n",
    "index_stats = index.describe_index_stats()\n",
    "print(index_stats)\n",
    "if index_stats['total_vector_count'] == 0:\n",
    "    print('delete all success!!!')\n",
    "else:\n",
    "    print('delete all failed???')"
   ]
  },
  {
   "cell_type": "code",
   "execution_count": null,
   "id": "1860681e-2918-4290-a3be-cb010352e23a",
   "metadata": {},
   "outputs": [],
   "source": []
  }
 ],
 "metadata": {
  "kernelspec": {
   "display_name": "Python 3 (ipykernel)",
   "language": "python",
   "name": "python3"
  },
  "language_info": {
   "codemirror_mode": {
    "name": "ipython",
    "version": 3
   },
   "file_extension": ".py",
   "mimetype": "text/x-python",
   "name": "python",
   "nbconvert_exporter": "python",
   "pygments_lexer": "ipython3",
   "version": "3.7.3"
  }
 },
 "nbformat": 4,
 "nbformat_minor": 5
}
