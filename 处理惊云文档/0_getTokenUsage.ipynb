{
 "cells": [
  {
   "cell_type": "markdown",
   "id": "6529e6ad-bf46-4f5f-81bc-a52303692a87",
   "metadata": {
    "tags": []
   },
   "source": [
    "## 测试token使用量"
   ]
  },
  {
   "cell_type": "code",
   "execution_count": 1,
   "id": "61f0ec63-59fd-4563-8621-83c6a731c563",
   "metadata": {
    "tags": []
   },
   "outputs": [],
   "source": [
    "# import tiktoken\n",
    "\n",
    "# model = 'cl100k_base'   # for 'text-embedding-ada-002'\n",
    "# def num_tokens_from_string(string: str, encoding_name: str = model) -> int:\n",
    "#     \"\"\"Returns the number of tokens in a text string.\"\"\"\n",
    "#     encoding = tiktoken.get_encoding(encoding_name)\n",
    "#     num_tokens = len(encoding.encode(string))\n",
    "#     return num_tokens"
   ]
  },
  {
   "cell_type": "code",
   "execution_count": 6,
   "id": "dd8f510d-060b-471e-82c9-95245ff12595",
   "metadata": {
    "tags": []
   },
   "outputs": [],
   "source": [
    "import tiktoken\n",
    "\n",
    "# $0.0004 per 1000 tokens\n",
    "model = 'cl100k_base'   # for 'text-embedding-ada-002'\n",
    "def num_tokens_from_stringlist(string_list: [], encoding_name: str) -> int:\n",
    "    \"\"\"Returns the number of tokens in a text string.\"\"\"\n",
    "    encoding = tiktoken.get_encoding(encoding_name)\n",
    "    num_tokens = len(encoding.encode(' '.join(string_list)))\n",
    "    return num_tokens\n",
    "\n",
    "def token_to_dollar(tokens):\n",
    "    return (tokens / 1000 * 0.0004)\n",
    "    \n",
    "\n",
    "def get_use_money_from_stringlist(string_list: [], encoding_name: str = model):\n",
    "    num = num_tokens_from_stringlist(string_list, encoding_name)\n",
    "    return \"tokens:{} = USD:{}\".format(num, token_to_dollar(num))"
   ]
  },
  {
   "cell_type": "code",
   "execution_count": 8,
   "id": "4de2406f-5a29-4516-af87-db0cb129b4ae",
   "metadata": {
    "tags": []
   },
   "outputs": [
    {
     "data": {
      "text/plain": [
       "'tokens:5659 = USD:0.0022636'"
      ]
     },
     "execution_count": 8,
     "metadata": {},
     "output_type": "execute_result"
    }
   ],
   "source": [
    "from langchain.document_loaders import TextLoader\n",
    "input_txt = './test.txt'\n",
    "loader = TextLoader(input_txt)\n",
    "data = loader.load()\n",
    "get_use_money_from_stringlist([data[0].page_content])"
   ]
  },
  {
   "cell_type": "code",
   "execution_count": null,
   "id": "dd3c33c8-c277-4f65-8d61-415b274f16c3",
   "metadata": {},
   "outputs": [],
   "source": []
  }
 ],
 "metadata": {
  "kernelspec": {
   "display_name": "Python 3 (ipykernel)",
   "language": "python",
   "name": "python3"
  },
  "language_info": {
   "codemirror_mode": {
    "name": "ipython",
    "version": 3
   },
   "file_extension": ".py",
   "mimetype": "text/x-python",
   "name": "python",
   "nbconvert_exporter": "python",
   "pygments_lexer": "ipython3",
   "version": "3.7.3"
  }
 },
 "nbformat": 4,
 "nbformat_minor": 5
}
