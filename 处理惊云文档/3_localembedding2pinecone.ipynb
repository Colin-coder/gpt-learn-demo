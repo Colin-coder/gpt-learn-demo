{
 "cells": [
  {
   "cell_type": "markdown",
   "id": "1523ff59-3fde-4794-85d8-5e00fc2b09df",
   "metadata": {},
   "source": [
    "## 这里测试根据文档内容构建embedding数据并保存到本地json文件中"
   ]
  },
  {
   "cell_type": "markdown",
   "id": "69281818-8c0a-4397-be34-c113f2ab97ac",
   "metadata": {},
   "source": [
    "### 这里只是为了以后不要对大文档重复调用openai接口生成embeddings，烧钱..."
   ]
  },
  {
   "cell_type": "code",
   "execution_count": 1,
   "id": "5a85c23f-b3c3-4dc1-87fd-916512466e9e",
   "metadata": {
    "tags": []
   },
   "outputs": [],
   "source": [
    "PINECONE_API_KEY = '19156849-2ed3-4cd6-80b4-a05964d4e264'\n",
    "PINECONE_API_ENV = 'eu-west1-gcp'\n",
    "index_name = \"hello2\""
   ]
  },
  {
   "cell_type": "code",
   "execution_count": 2,
   "id": "060586ce-936a-46d6-9269-fa245342902a",
   "metadata": {},
   "outputs": [
    {
     "name": "stdout",
     "output_type": "stream",
     "text": [
      "<class 'dict'>\n"
     ]
    }
   ],
   "source": [
    "import json\n",
    "# 从JSON文件中加载embeddings数据\n",
    "loaded_data = []\n",
    "with open('embeddings.json', 'r') as f:\n",
    "    loaded_data = json.load(f)\n",
    "\n",
    "# 打印数据类型\n",
    "print(type(loaded_data))  # <class 'dict'>"
   ]
  },
  {
   "cell_type": "code",
   "execution_count": 3,
   "id": "1e045548-4d34-4b12-a27c-27bf2c843f95",
   "metadata": {},
   "outputs": [
    {
     "name": "stdout",
     "output_type": "stream",
     "text": [
      "6\n",
      "6\n"
     ]
    }
   ],
   "source": [
    "# extract embeddings to a list\n",
    "embeds = [record['embedding'] for record in loaded_data['data']]\n",
    "print(len(embeds))\n",
    "content_list = [record['content'] for record in loaded_data['data']]\n",
    "print(len(content_list))"
   ]
  },
  {
   "cell_type": "code",
   "execution_count": 4,
   "id": "b06e2f04-46fe-45a3-b26e-d7651afaa284",
   "metadata": {},
   "outputs": [
    {
     "name": "stdout",
     "output_type": "stream",
     "text": [
      "1536\n"
     ]
    }
   ],
   "source": [
    "# 这里输出向量维度，需要在pinecone中配置相同的dimensions数值\n",
    "print(len(embeds[0]))"
   ]
  },
  {
   "cell_type": "code",
   "execution_count": 5,
   "id": "74c6ebeb-645f-47f4-9441-43ccfe102690",
   "metadata": {},
   "outputs": [
    {
     "name": "stderr",
     "output_type": "stream",
     "text": [
      "C:\\Users\\15271\\AppData\\Local\\Programs\\Python\\Python311\\Lib\\site-packages\\pinecone\\index.py:4: TqdmWarning: IProgress not found. Please update jupyter and ipywidgets. See https://ipywidgets.readthedocs.io/en/stable/user_install.html\n",
      "  from tqdm.autonotebook import tqdm\n"
     ]
    }
   ],
   "source": [
    "import pinecone"
   ]
  },
  {
   "cell_type": "code",
   "execution_count": 6,
   "id": "00c94309-3663-4ea0-81d0-dbc0029e3353",
   "metadata": {},
   "outputs": [],
   "source": [
    "# initialize pinecone\n",
    "pinecone.init(\n",
    "    api_key=PINECONE_API_KEY,  # find at app.pinecone.io\n",
    "    environment=PINECONE_API_ENV  # next to api key in console\n",
    ")"
   ]
  },
  {
   "cell_type": "markdown",
   "id": "c5b07d4b-7a31-4c32-94ea-c2f08ffe92e3",
   "metadata": {
    "tags": []
   },
   "source": [
    "### 查看当前pinecone中index的描述信息"
   ]
  },
  {
   "cell_type": "code",
   "execution_count": 7,
   "id": "426e154a-dca8-4014-afcb-a6ddac5d62bb",
   "metadata": {},
   "outputs": [
    {
     "data": {
      "text/plain": [
       "IndexDescription(name='hello2', metric='cosine', replicas=1, dimension=1536.0, shards=1, pods=1, pod_type='s1.x1', status={'ready': True, 'state': 'Ready'}, metadata_config=None, source_collection='')"
      ]
     },
     "execution_count": 7,
     "metadata": {},
     "output_type": "execute_result"
    }
   ],
   "source": [
    "index_description = pinecone.describe_index(index_name)\n",
    "index_description"
   ]
  },
  {
   "cell_type": "code",
   "execution_count": 8,
   "id": "a6543e6b-6435-4512-a732-de0c5c527502",
   "metadata": {},
   "outputs": [],
   "source": [
    "index = pinecone.Index(index_name)"
   ]
  },
  {
   "cell_type": "code",
   "execution_count": 9,
   "id": "3b388c23-fe8b-4916-9a97-aebf5f79477d",
   "metadata": {},
   "outputs": [
    {
     "data": {
      "text/plain": [
       "{'upserted_count': 6}"
      ]
     },
     "execution_count": 9,
     "metadata": {},
     "output_type": "execute_result"
    }
   ],
   "source": [
    "# 这里需要自己定义每一个向量的id和meta数据（meta数据后续可以直接存储原文，这里暂时没做）\n",
    "ids_batch = [f'id_{i}' for i in range(0, len(embeds)+1)]\n",
    "metas_batch = [{'text': content_list[i]} for i in range(0, len(content_list))]\n",
    "to_upsert = zip(ids_batch, embeds, metas_batch)\n",
    "# upsert to Pinecone\n",
    "index.upsert(vectors=list(to_upsert))"
   ]
  },
  {
   "cell_type": "code",
   "execution_count": 10,
   "id": "46e97dbe-eea2-49dd-a50a-5af7fa8767fe",
   "metadata": {},
   "outputs": [
    {
     "name": "stdout",
     "output_type": "stream",
     "text": [
      "{'dimension': 1536,\n",
      " 'index_fullness': 0.0,\n",
      " 'namespaces': {'': {'vector_count': 6}},\n",
      " 'total_vector_count': 6}\n"
     ]
    }
   ],
   "source": [
    "index_stats = index.describe_index_stats()\n",
    "print(index_stats)"
   ]
  },
  {
   "cell_type": "code",
   "execution_count": 11,
   "id": "8a6426be-5c17-4250-8f43-1b17370c2fef",
   "metadata": {},
   "outputs": [],
   "source": [
    "fetch_response = index.fetch(ids=['id_0', 'id_1'])"
   ]
  },
  {
   "cell_type": "code",
   "execution_count": null,
   "id": "298649f6-23de-4566-821a-99e5e20274a9",
   "metadata": {
    "tags": []
   },
   "outputs": [],
   "source": [
    "fetch_response"
   ]
  },
  {
   "cell_type": "code",
   "execution_count": null,
   "id": "cfe54ba8-1542-407f-84dd-ade3ebc64654",
   "metadata": {},
   "outputs": [],
   "source": []
  }
 ],
 "metadata": {
  "kernelspec": {
   "display_name": "Python 3 (ipykernel)",
   "language": "python",
   "name": "python3"
  },
  "language_info": {
   "codemirror_mode": {
    "name": "ipython",
    "version": 3
   },
   "file_extension": ".py",
   "mimetype": "text/x-python",
   "name": "python",
   "nbconvert_exporter": "python",
   "pygments_lexer": "ipython3",
   "version": "3.7.3"
  }
 },
 "nbformat": 4,
 "nbformat_minor": 5
}
