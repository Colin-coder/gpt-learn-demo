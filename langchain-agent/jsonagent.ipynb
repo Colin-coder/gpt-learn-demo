{
 "cells": [
  {
   "cell_type": "code",
   "execution_count": 1,
   "id": "fbc21620-3018-4d62-a336-7c38dc587d99",
   "metadata": {
    "tags": []
   },
   "outputs": [],
   "source": [
    "import os\n",
    "import yaml\n",
    "\n",
    "from langchain.agents import (\n",
    "    create_json_agent,\n",
    "    AgentExecutor\n",
    ")\n",
    "from langchain.agents.agent_toolkits import JsonToolkit\n",
    "from langchain.chains import LLMChain\n",
    "from langchain.llms.openai import OpenAI\n",
    "# from langchain.requests import TextRequestsWrapper\n",
    "from langchain.tools.json.tool import JsonSpec"
   ]
  },
  {
   "cell_type": "code",
   "execution_count": 2,
   "id": "690f3caa-1273-486f-98b1-511543894b23",
   "metadata": {
    "tags": []
   },
   "outputs": [
    {
     "name": "stderr",
     "output_type": "stream",
     "text": [
      "WARNING! api_base is not default parameter.\n",
      "                    api_base was transfered to model_kwargs.\n",
      "                    Please confirm that api_base is what you intended.\n",
      "WARNING! api_key is not default parameter.\n",
      "                    api_key was transfered to model_kwargs.\n",
      "                    Please confirm that api_key is what you intended.\n"
     ]
    }
   ],
   "source": [
    "import os\n",
    "OPENAI_API_BASE='https://newcon.space/v1'\n",
    "llm = OpenAI(temperature=0, api_base=OPENAI_API_BASE, api_key = os.environ.get('OPENAI_API_KEY'))"
   ]
  },
  {
   "cell_type": "code",
   "execution_count": 3,
   "id": "26f91669-381e-45bc-82d9-8259de31ee8e",
   "metadata": {
    "tags": []
   },
   "outputs": [],
   "source": [
    "with open(\"openapi.yaml\") as f:\n",
    "    data = yaml.load(f, Loader=yaml.FullLoader)\n",
    "json_spec = JsonSpec(dict_=data, max_value_length=4000)\n",
    "json_toolkit = JsonToolkit(spec=json_spec)\n",
    "\n",
    "json_agent_executor = create_json_agent(\n",
    "    llm=llm,\n",
    "    toolkit=json_toolkit,\n",
    "    verbose=True\n",
    ")"
   ]
  },
  {
   "cell_type": "code",
   "execution_count": null,
   "id": "2763ac39-debf-4293-b7a9-44600ec9424b",
   "metadata": {
    "tags": []
   },
   "outputs": [],
   "source": [
    "json_agent_executor.run(\"What are the required parameters in the request body to the /completions endpoint?\")"
   ]
  },
  {
   "cell_type": "code",
   "execution_count": null,
   "id": "6c148144-739b-4136-b5c6-d37e96e195a8",
   "metadata": {},
   "outputs": [],
   "source": []
  }
 ],
 "metadata": {
  "kernelspec": {
   "display_name": "gptenv",
   "language": "python",
   "name": "gptenv"
  },
  "language_info": {
   "codemirror_mode": {
    "name": "ipython",
    "version": 3
   },
   "file_extension": ".py",
   "mimetype": "text/x-python",
   "name": "python",
   "nbconvert_exporter": "python",
   "pygments_lexer": "ipython3",
   "version": "3.9.16"
  }
 },
 "nbformat": 4,
 "nbformat_minor": 5
}
