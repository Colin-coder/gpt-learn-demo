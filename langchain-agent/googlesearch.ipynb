{
 "cells": [
  {
   "cell_type": "code",
   "execution_count": 1,
   "id": "f739302d-051d-4f59-85c6-8bb3d2edf5ff",
   "metadata": {
    "tags": []
   },
   "outputs": [],
   "source": [
    "# langchain + google search"
   ]
  },
  {
   "cell_type": "code",
   "execution_count": 3,
   "id": "b1cd3095-8a1f-4f8b-b7e5-9b5bf4dcb7a0",
   "metadata": {
    "tags": []
   },
   "outputs": [],
   "source": [
    "import os"
   ]
  },
  {
   "cell_type": "code",
   "execution_count": 15,
   "id": "5da6bff2-bdff-45d5-8c80-57cb50e7d6f0",
   "metadata": {
    "tags": []
   },
   "outputs": [
    {
     "name": "stderr",
     "output_type": "stream",
     "text": [
      "WARNING! api_base is not default parameter.\n",
      "                    api_base was transfered to model_kwargs.\n",
      "                    Please confirm that api_base is what you intended.\n",
      "WARNING! api_key is not default parameter.\n",
      "                    api_key was transfered to model_kwargs.\n",
      "                    Please confirm that api_key is what you intended.\n"
     ]
    },
    {
     "name": "stdout",
     "output_type": "stream",
     "text": [
      "\n",
      "\n",
      "\u001b[1m> Entering new AgentExecutor chain...\u001b[0m\n",
      "\u001b[32;1m\u001b[1;3m Let's get the current weather conditions\n",
      "Action: Search\n",
      "Action Input: Xi'an weather\u001b[0m\n",
      "Observation: \u001b[36;1m\u001b[1;3mPartly cloudy skies early followed by increasing clouds with showers developing later at night. Low around 65F. Winds light and variable. Chance of rain 40%.\u001b[0m\n",
      "Thought:\u001b[32;1m\u001b[1;3m I now know the current weather conditions\n",
      "Final Answer: Partly cloudy skies early followed by increasing clouds with showers developing later at night. Low temperature around 65F. Winds light and variable. Chance of rain 40%.\u001b[0m\n",
      "\n",
      "\u001b[1m> Finished chain.\u001b[0m\n"
     ]
    },
    {
     "data": {
      "text/plain": [
       "'Partly cloudy skies early followed by increasing clouds with showers developing later at night. Low temperature around 65F. Winds light and variable. Chance of rain 40%.'"
      ]
     },
     "execution_count": 15,
     "metadata": {},
     "output_type": "execute_result"
    }
   ],
   "source": [
    "from langchain.agents import load_tools\n",
    "from langchain.agents import initialize_agent\n",
    "from langchain.llms import OpenAI\n",
    "from langchain.agents import AgentType\n",
    "\n",
    "OPENAI_API_BASE='https://newcon.space/v1'\n",
    "\n",
    "# 加载 OpenAI 模型\n",
    "llm = OpenAI(temperature=1,max_tokens=2048,api_base=OPENAI_API_BASE,api_key = os.environ.get('OPENAI_API_KEY')) \n",
    "\n",
    " # 加载 serpapi 工具\n",
    "tools = load_tools([\"serpapi\"], serpapi_api_key='2ac1b6ebd86bcec2def4fbb89bebd57cb4237677db8dd1e24e9a24ecb273c7b3')\n",
    "\n",
    "# 如果搜索完想在计算一下可以这么写\n",
    "# tools = load_tools(['serpapi', 'llm-math'], llm=llm)\n",
    "\n",
    "# 如果搜索完想再让他再用python的print做点简单的计算，可以这样写\n",
    "# tools=load_tools([\"serpapi\",\"python_repl\"])\n",
    "\n",
    "# 工具加载后都需要初始化，verbose 参数为 True，会打印全部的执行详情\n",
    "agent = initialize_agent(tools, llm, agent=AgentType.ZERO_SHOT_REACT_DESCRIPTION, verbose=True)\n",
    "\n",
    "# 运行 agent\n",
    "agent.run(\"西安天气怎么样，请回答出温度、天气等信息\")"
   ]
  },
  {
   "cell_type": "code",
   "execution_count": null,
   "id": "e2a603d8-dc5e-4343-964c-62128c0d6e2e",
   "metadata": {},
   "outputs": [],
   "source": []
  }
 ],
 "metadata": {
  "kernelspec": {
   "display_name": "gptenv",
   "language": "python",
   "name": "gptenv"
  },
  "language_info": {
   "codemirror_mode": {
    "name": "ipython",
    "version": 3
   },
   "file_extension": ".py",
   "mimetype": "text/x-python",
   "name": "python",
   "nbconvert_exporter": "python",
   "pygments_lexer": "ipython3",
   "version": "3.9.16"
  }
 },
 "nbformat": 4,
 "nbformat_minor": 5
}
