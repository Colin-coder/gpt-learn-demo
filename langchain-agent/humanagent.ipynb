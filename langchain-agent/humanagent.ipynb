{
 "cells": [
  {
   "cell_type": "code",
   "execution_count": 4,
   "id": "55810bcb-6aa5-4896-992e-154b50daaaf2",
   "metadata": {
    "tags": []
   },
   "outputs": [
    {
     "name": "stdout",
     "output_type": "stream",
     "text": [
      "['python_repl', 'requests', 'terminal', 'wolfram-alpha', 'google-search', 'google-search-results-json', 'bing-search', 'google-serper', 'serpapi', 'searx-search', 'wikipedia', 'news-api', 'tmdb-api', 'pal-math', 'pal-colored-objects', 'llm-math', 'open-meteo-api']\n"
     ]
    }
   ],
   "source": [
    "import sys\n",
    "from langchain.chat_models import ChatOpenAI\n",
    "from langchain.llms import OpenAI\n",
    "from langchain.agents import load_tools, initialize_agent, get_all_tool_names\n",
    "# from langchain.agents import AgentType\n",
    "\n",
    "llm = ChatOpenAI(temperature=0.0)\n",
    "math_llm = OpenAI(temperature=0.0)\n",
    "print(get_all_tool_names())"
   ]
  },
  {
   "cell_type": "code",
   "execution_count": null,
   "id": "8e460e26-d8fa-4a8f-935d-00ce82945ed7",
   "metadata": {
    "tags": []
   },
   "outputs": [],
   "source": [
    "# 现在下载的langchain版本比较老，不支持human，需要在家里更新包来做\n",
    "tools = load_tools(\n",
    "    [\"human\", \"llm-math\"], \n",
    "    llm=math_llm,\n",
    ")\n",
    "\n",
    "agent_chain = initialize_agent(\n",
    "    tools,\n",
    "    llm,\n",
    "    agent='zero-shot-react-description',\n",
    "    verbose=True,\n",
    ")"
   ]
  },
  {
   "cell_type": "code",
   "execution_count": null,
   "id": "9daf2451-dad7-436c-9c6b-5b0d5f60e74c",
   "metadata": {},
   "outputs": [],
   "source": [
    "agent_chain.run(\"What is Eric Zhu's birthday?\")\n",
    "# Answer with \"last week\""
   ]
  }
 ],
 "metadata": {
  "kernelspec": {
   "display_name": "gptenv",
   "language": "python",
   "name": "gptenv"
  },
  "language_info": {
   "codemirror_mode": {
    "name": "ipython",
    "version": 3
   },
   "file_extension": ".py",
   "mimetype": "text/x-python",
   "name": "python",
   "nbconvert_exporter": "python",
   "pygments_lexer": "ipython3",
   "version": "3.9.16"
  }
 },
 "nbformat": 4,
 "nbformat_minor": 5
}
