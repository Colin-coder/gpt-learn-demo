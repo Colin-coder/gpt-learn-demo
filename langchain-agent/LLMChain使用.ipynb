{
 "cells": [
  {
   "cell_type": "code",
   "execution_count": 13,
   "id": "f0090298-bad9-45ab-b52b-80ec797a720f",
   "metadata": {
    "tags": []
   },
   "outputs": [],
   "source": [
    "# from langchain.llms import OpenAI\n",
    "from langchain.chat_models import ChatOpenAI\n",
    "from langchain.chains import LLMChain\n",
    "from langchain.prompts import PromptTemplate\n",
    "import os"
   ]
  },
  {
   "cell_type": "code",
   "execution_count": 14,
   "id": "d4ef84a2-56c5-4fdb-95c7-e4858df248e2",
   "metadata": {
    "tags": []
   },
   "outputs": [],
   "source": [
    "# This is an LLMChain to write a synopsis given a title of a play.\n",
    "OPENAI_API_BASE='https://newcon.space/v1'\n",
    "llm = ChatOpenAI(model_name=\"gpt-3.5-turbo\", api_base=OPENAI_API_BASE, api_key = os.environ.get('OPENAI_API_KEY'))\n",
    "# openaichat.openai_api_key = os.environ.get('OPENAI_API_KEY')\n",
    "\n",
    "# llm = OpenAI(temperature=.7, api_base=OPENAI_API_BASE, api_key=os.environ.get('OPENAI_API_KEY'))\n",
    "template = \"\"\"你是一个诗人，请根据标题写两句诗.\n",
    "\n",
    "标题: {title}\n",
    "诗人: 下面是两句诗词:\"\"\"\n",
    "prompt_template = PromptTemplate(input_variables=[\"title\"], template=template)\n",
    "synopsis_chain = LLMChain(llm=llm, prompt=prompt_template)"
   ]
  },
  {
   "cell_type": "code",
   "execution_count": 15,
   "id": "ab782b4a-e722-4f37-a624-1289b8a8730b",
   "metadata": {
    "tags": []
   },
   "outputs": [],
   "source": [
    "# This is an LLMChain to write a review of a play given a synopsis.\n",
    "# llm = OpenAI(temperature=.7)\n",
    "llm = ChatOpenAI(model_name=\"gpt-3.5-turbo\", api_base=OPENAI_API_BASE, api_key = os.environ.get('OPENAI_API_KEY'))\n",
    "template = \"\"\"你是诗词解析者，请对诗句做出解析.\n",
    "\n",
    "诗句:\n",
    "{poems}\n",
    "诗词解析者对诗词的解析如下:\"\"\"\n",
    "prompt_template = PromptTemplate(input_variables=[\"poems\"], template=template)\n",
    "review_chain = LLMChain(llm=llm, prompt=prompt_template)"
   ]
  },
  {
   "cell_type": "code",
   "execution_count": 16,
   "id": "9fcad36c-e976-463e-9e4c-e8c93fa3b1b2",
   "metadata": {
    "tags": []
   },
   "outputs": [],
   "source": [
    "# This is the overall chain where we run these two chains in sequence.\n",
    "from langchain.chains import SimpleSequentialChain\n",
    "overall_chain = SimpleSequentialChain(chains=[synopsis_chain, review_chain], verbose=True)"
   ]
  },
  {
   "cell_type": "code",
   "execution_count": 17,
   "id": "8772c12e-7e05-47ce-9938-eb0a2967d7cc",
   "metadata": {
    "tags": []
   },
   "outputs": [
    {
     "name": "stdout",
     "output_type": "stream",
     "text": [
      "\n",
      "\n",
      "\u001b[1m> Entering new SimpleSequentialChain chain...\u001b[0m\n",
      "\u001b[36;1m\u001b[1;3m翠柏挺立有余情，青松激荡见英雄。\u001b[0m\n",
      "\u001b[33;1m\u001b[1;3m此诗句运用了人物与自然景观的比拟手法，描述了翠柏和青松的高傲挺拔，以及它们所映射出的英雄气概。翠柏和青松是常绿树，象征着坚定、不屈的品质，尤其是翠柏既雄浑又有婉约之气，恰好与英雄形象相呼应，称得上是“身世商山女松子”的完美写照。诗句整体流畅，语言简练，形象生动，表现出作者崇高的审美情趣和才情。\u001b[0m\n",
      "\n",
      "\u001b[1m> Finished chain.\u001b[0m\n"
     ]
    }
   ],
   "source": [
    "review = overall_chain.run(\"松柏\")"
   ]
  },
  {
   "cell_type": "code",
   "execution_count": null,
   "id": "b5a4341c-cec8-4eb5-8042-4ea3fa8b2d54",
   "metadata": {},
   "outputs": [],
   "source": []
  }
 ],
 "metadata": {
  "kernelspec": {
   "display_name": "gptenv",
   "language": "python",
   "name": "gptenv"
  },
  "language_info": {
   "codemirror_mode": {
    "name": "ipython",
    "version": 3
   },
   "file_extension": ".py",
   "mimetype": "text/x-python",
   "name": "python",
   "nbconvert_exporter": "python",
   "pygments_lexer": "ipython3",
   "version": "3.9.16"
  }
 },
 "nbformat": 4,
 "nbformat_minor": 5
}
