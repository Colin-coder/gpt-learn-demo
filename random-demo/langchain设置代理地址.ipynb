{
 "cells": [
  {
   "cell_type": "markdown",
   "id": "cb4d2158-ba30-4727-904f-0ea424ed354e",
   "metadata": {},
   "source": [
    "# 这里验证了一下，目前langchain中的ChatOpenAI 在构造时设置参数 api_base=OPENAI_API_BASE，可以配置代理地址"
   ]
  },
  {
   "cell_type": "code",
   "execution_count": 1,
   "id": "5feb056b-77a7-42c3-a643-1a85dbc76c90",
   "metadata": {
    "tags": []
   },
   "outputs": [],
   "source": [
    "# 第一种方式，引入 ChatOpenAI\n",
    "from langchain.chat_models import ChatOpenAI\n",
    "import os\n",
    "OPENAI_API_BASE='https://newcon.space/v1'\n",
    "openaichat = ChatOpenAI(model_name=\"gpt-3.5-turbo\", api_base=OPENAI_API_BASE)\n",
    "openaichat.openai_api_key = os.environ.get('OPENAI_API_KEY')"
   ]
  },
  {
   "cell_type": "code",
   "execution_count": 2,
   "id": "173170eb-b974-4d6f-9361-0c82fd5d91b1",
   "metadata": {
    "tags": []
   },
   "outputs": [],
   "source": [
    "# 另一种方式，引入 OpenAI 类\n",
    "# from langchain import OpenAI\n",
    "# import os\n",
    "# OPENAI_API_BASE='https://newcon.space/v1'\n",
    "# llm = OpenAI(temperature=0, api_base=OPENAI_API_BASE, api_key = os.environ.get('OPENAI_API_KEY'))"
   ]
  },
  {
   "cell_type": "code",
   "execution_count": 3,
   "id": "c647ac3d-4b62-4429-9e26-c9bda2a9fdf8",
   "metadata": {
    "tags": []
   },
   "outputs": [],
   "source": [
    "from langchain.prompts.chat import (\n",
    "    ChatPromptTemplate,\n",
    "    SystemMessagePromptTemplate,\n",
    "    AIMessagePromptTemplate,\n",
    "    HumanMessagePromptTemplate,\n",
    ")\n",
    "from langchain.schema import (\n",
    "    AIMessage,\n",
    "    HumanMessage,\n",
    "    SystemMessage\n",
    ")"
   ]
  },
  {
   "cell_type": "code",
   "execution_count": 5,
   "id": "d3754d08-732c-4b43-8d9d-c66fd6ea6dca",
   "metadata": {
    "tags": []
   },
   "outputs": [
    {
     "data": {
      "text/plain": [
       "AIMessage(content='我喜爱编程。', additional_kwargs={})"
      ]
     },
     "execution_count": 5,
     "metadata": {},
     "output_type": "execute_result"
    }
   ],
   "source": [
    "messages = [\n",
    "    SystemMessage(content=\"You are a helpful assistant that translates English to French.\"),\n",
    "    HumanMessage(content=\"Translate this sentence from English to Chinese. I love programming.\")\n",
    "]\n",
    "openaichat(messages)"
   ]
  },
  {
   "cell_type": "code",
   "execution_count": null,
   "id": "a367fdca-cfc6-4d68-bb53-3fbf235811af",
   "metadata": {},
   "outputs": [],
   "source": []
  }
 ],
 "metadata": {
  "kernelspec": {
   "display_name": "gptenv",
   "language": "python",
   "name": "gptenv"
  },
  "language_info": {
   "codemirror_mode": {
    "name": "ipython",
    "version": 3
   },
   "file_extension": ".py",
   "mimetype": "text/x-python",
   "name": "python",
   "nbconvert_exporter": "python",
   "pygments_lexer": "ipython3",
   "version": "3.9.16"
  }
 },
 "nbformat": 4,
 "nbformat_minor": 5
}
